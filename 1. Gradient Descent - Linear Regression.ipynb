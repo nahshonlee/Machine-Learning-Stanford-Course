{
 "cells": [
  {
   "cell_type": "code",
   "execution_count": 1,
   "metadata": {},
   "outputs": [],
   "source": [
    "import numpy as np\n",
    "import pandas as pd\n",
    "from sklearn import datasets\n",
    "from sklearn.linear_model import LinearRegression\n",
    "\n",
    "import matplotlib.pyplot as plt\n",
    "% matplotlib inline"
   ]
  },
  {
   "cell_type": "markdown",
   "metadata": {},
   "source": [
    "## Linear Regression\n",
    "For the purposes of this tutorial, I will be generating a random set of data, with n number of features, and apply first principles of Linear Regression to obtain the coefficients for each features based on Least Squared Error Cost Function."
   ]
  },
  {
   "cell_type": "code",
   "execution_count": 2,
   "metadata": {},
   "outputs": [],
   "source": [
    "n_features = 10\n",
    "\n",
    "# Generation of random datasets with n_features already fitted\n",
    "data_x, data_y = datasets.make_regression(n_samples= 100,\n",
    "                               n_features = n_features,\n",
    "                               n_targets = 1,\n",
    "                               noise = 100)"
   ]
  },
  {
   "cell_type": "code",
   "execution_count": 3,
   "metadata": {},
   "outputs": [
    {
     "name": "stdout",
     "output_type": "stream",
     "text": [
      "         x0        x1        x2        x3        x4        x5        x6  \\\n",
      "0 -1.159817 -0.486001 -1.654450 -1.272714 -1.289814  1.831900 -0.733321   \n",
      "1 -0.115406  0.803215  0.212172 -0.180852  0.981211  1.146699 -1.801729   \n",
      "2  2.494077  0.112900  1.147182 -0.921304 -1.350649  0.222877 -1.366437   \n",
      "3 -0.328217  0.444896  0.584577  0.531156  0.947703 -1.314422 -1.217678   \n",
      "4 -1.432157 -0.006213  0.344361  0.796117 -1.807530  0.776804 -1.656397   \n",
      "\n",
      "         x7        x8        x9           y  \n",
      "0 -1.065952 -0.736852 -0.543421 -442.941420  \n",
      "1  0.459869  0.271187 -0.351378  164.312869  \n",
      "2  1.111847  0.237793  0.589275  -12.190315  \n",
      "3  1.438077 -0.223349 -0.064664  234.221257  \n",
      "4 -1.442878 -1.310078 -0.347681 -394.428987  \n"
     ]
    }
   ],
   "source": [
    "data_x = pd.DataFrame(data_x)\n",
    "data_y = pd.DataFrame(data_y)\n",
    "data_x.columns = ['x{}'.format(i) for i in range(n_features)]\n",
    "data_y.columns=['y']\n",
    "data = pd.concat([data_x, data_y], axis = 1)\n",
    "print(data.head())"
   ]
  },
  {
   "cell_type": "markdown",
   "metadata": {},
   "source": [
    "## Cost function\n",
    "Cost function can be calculated as follows:\n",
    "\n",
    "$$J(\\theta) = \\frac{1}{2m} \\sum_{i = 1}^{m}(h_\\theta(x^{(i)})-y^{(i)})^2$$"
   ]
  },
  {
   "cell_type": "code",
   "execution_count": 4,
   "metadata": {},
   "outputs": [],
   "source": [
    "def mean_squared_error_cost_function(x, y, theta):\n",
    "    m = len(y)\n",
    "    predictions = x.dot(theta)\n",
    "    square_error = (predictions - y) ** 2\n",
    "    return 1/(2*m) * np.sum(square_error)"
   ]
  },
  {
   "cell_type": "code",
   "execution_count": 5,
   "metadata": {},
   "outputs": [],
   "source": [
    "numpy_data = data.values\n",
    "m = len(data)\n",
    "x = np.append(np.ones((m, 1)), numpy_data[:,0:n_features].reshape(m, n_features), axis = 1)\n",
    "y = numpy_data[:, n_features].reshape(m, 1)\n",
    "theta = np.zeros((n_features + 1, 1))\n",
    "# Setting all thetas to 0"
   ]
  },
  {
   "cell_type": "code",
   "execution_count": 6,
   "metadata": {},
   "outputs": [
    {
     "data": {
      "text/plain": [
       "22762.63432256217"
      ]
     },
     "execution_count": 6,
     "metadata": {},
     "output_type": "execute_result"
    }
   ],
   "source": [
    "mean_squared_error_cost_function(x, y, theta)"
   ]
  },
  {
   "cell_type": "markdown",
   "metadata": {},
   "source": [
    "## Gradient Descent\n",
    "For each of the variable, we repeat until convergence, the following:\n",
    "$$\\theta_j := \\theta_j - \\frac{\\alpha}{m}\\sum_{i=1}^{m}(h_\\theta(x^{(i)})-y^{(i)})\\cdot x_j^{(i)}$$"
   ]
  },
  {
   "cell_type": "code",
   "execution_count": 7,
   "metadata": {},
   "outputs": [],
   "source": [
    "def gradient_descent(x, y, theta, alpha, iterations):\n",
    "    \n",
    "    theta_return = np.zeros((n_features + 1, 1))\n",
    "    # create a new vector of theta to simultaneously update the theta values\n",
    "    \n",
    "    # theta_i := theta_i - alpha/m * partial derivative (cost function)\n",
    "    for i in range(iterations):\n",
    "        theta_return[0] = theta[0] - (alpha / m) * ((x.dot(theta) - y).sum())\n",
    "        for j in range(1, n_features + 1):\n",
    "            theta_return[j] = theta[j] - (alpha / m) * (((x.dot(theta) - y)*x[:, j][:, None]).sum())\n",
    "        theta = theta_return\n",
    "\n",
    "    return theta"
   ]
  },
  {
   "cell_type": "markdown",
   "metadata": {},
   "source": [
    "## Gradient Descent (Vertorized)\n",
    "The Gradient Descent Rule can be written in vectorized form as shown:\n",
    "$$\\theta := \\theta - \\frac{\\alpha}{m}X^T(X\\theta - \\overrightarrow{y}) $$"
   ]
  },
  {
   "cell_type": "code",
   "execution_count": 8,
   "metadata": {},
   "outputs": [],
   "source": [
    "# Using vectorization method:\n",
    "def gradient_descent(x, y, theta, alpha, iterations):\n",
    "\n",
    "    cost_record = np.zeros((iterations + 1, 1))\n",
    "    cost_record[0] = mean_squared_error_cost_function(x, y, theta)\n",
    "    \n",
    "    for i in range(1, iterations + 1, 1):\n",
    "        theta = theta - (alpha/m) * x.transpose() @ (x @ theta - y)\n",
    "        cost_record[i] = mean_squared_error_cost_function(x, y, theta)\n",
    "    \n",
    "    cost_record = np.append(np.arange(0, iterations + 1).reshape(-1, 1), cost_record, axis = 1)\n",
    "    return theta, cost_record"
   ]
  },
  {
   "cell_type": "markdown",
   "metadata": {},
   "source": [
    "## Applying the Gradient Descent Method and comparing with built in Linear Regression method in sklearn"
   ]
  },
  {
   "cell_type": "code",
   "execution_count": 9,
   "metadata": {},
   "outputs": [
    {
     "name": "stdout",
     "output_type": "stream",
     "text": [
      "[[-21.60626695]\n",
      " [ 40.43976107]\n",
      " [ 53.69191295]\n",
      " [ 89.21410497]\n",
      " [ 49.00723697]\n",
      " [ 50.37023407]\n",
      " [ 37.92362486]\n",
      " [ 62.20339572]\n",
      " [ 75.77718913]\n",
      " [ 34.22711793]\n",
      " [ 39.18661318]]\n"
     ]
    }
   ],
   "source": [
    "theta, cost_record = gradient_descent(x, y, theta, 0.01, 2000)\n",
    "print(theta)"
   ]
  },
  {
   "cell_type": "markdown",
   "metadata": {},
   "source": [
    "Using the LinearRegression class in sklearn and fitting to the randomly generated data, we get very close coefficients to those found by our gradient descent formula!"
   ]
  },
  {
   "cell_type": "code",
   "execution_count": 10,
   "metadata": {},
   "outputs": [
    {
     "name": "stdout",
     "output_type": "stream",
     "text": [
      "[[ 0.         40.44063024 53.69346385 89.21434046 49.00840779 50.37130485\n",
      "  37.9235601  62.20244247 75.77563615 34.227762   39.18573589]]\n"
     ]
    }
   ],
   "source": [
    "clf = LinearRegression()\n",
    "clf.fit(x, y)\n",
    "print(clf.coef_)"
   ]
  },
  {
   "cell_type": "markdown",
   "metadata": {},
   "source": [
    "As observed, our cost function has decreased tremendously through the gradient descent algorithm."
   ]
  },
  {
   "cell_type": "code",
   "execution_count": 12,
   "metadata": {},
   "outputs": [
    {
     "data": {
      "text/plain": [
       "5854.079502228154"
      ]
     },
     "execution_count": 12,
     "metadata": {},
     "output_type": "execute_result"
    }
   ],
   "source": [
    "mean_squared_error_cost_function(x, y, theta)"
   ]
  },
  {
   "cell_type": "markdown",
   "metadata": {},
   "source": [
    "Plotting the cost as a function of the number of iterations depicts the cost decreasing very rapidly at initial iterations, before plateauing without any substantial reduction in cost at approximately 250 iterations onwards."
   ]
  },
  {
   "cell_type": "code",
   "execution_count": 13,
   "metadata": {},
   "outputs": [
    {
     "data": {
      "image/png": "[encoded data removed]",
      "text/plain": [
       "<Figure size 432x288 with 1 Axes>"
      ]
     },
     "metadata": {
      "needs_background": "light"
     },
     "output_type": "display_data"
    }
   ],
   "source": [
    "plt.plot(cost_record[:, 1])\n",
    "plt.xlabel('No. of iterations')\n",
    "plt.ylabel('Mean Squared Cost Function')\n",
    "plt.show()"
   ]
  },
  {
   "cell_type": "markdown",
   "metadata": {},
   "source": [
    "## Normal Equation\n",
    "The coefficients for Linear Regression can also be found using the **Normal Equation**:\n",
    "\n",
    "$$\\theta = (X^T \\cdot X)^{-1} X^T \\cdot Y$$\n",
    "\n",
    "Refer to the following link for the proof:\n",
    "- https://www.geeksforgeeks.org/ml-normal-equation-in-linear-regression/\n",
    "\n",
    "The results we obtain is exactly the same as those returned by the LinearRegression class from sklearn!"
   ]
  },
  {
   "cell_type": "code",
   "execution_count": 14,
   "metadata": {},
   "outputs": [
    {
     "name": "stdout",
     "output_type": "stream",
     "text": [
      "[[-21.60818042]\n",
      " [ 40.44063024]\n",
      " [ 53.69346385]\n",
      " [ 89.21434046]\n",
      " [ 49.00840779]\n",
      " [ 50.37130485]\n",
      " [ 37.9235601 ]\n",
      " [ 62.20244247]\n",
      " [ 75.77563615]\n",
      " [ 34.227762  ]\n",
      " [ 39.18573589]]\n"
     ]
    }
   ],
   "source": [
    "theta_normal = np.linalg.inv(x.transpose() @ x) @ x.transpose() @ y\n",
    "print(theta_normal)"
   ]
  }
 ],
 "metadata": {
  "kernelspec": {
   "display_name": "Python 3",
   "language": "python",
   "name": "python3"
  },
  "language_info": {
   "codemirror_mode": {
    "name": "ipython",
    "version": 3
   },
   "file_extension": ".py",
   "mimetype": "text/x-python",
   "name": "python",
   "nbconvert_exporter": "python",
   "pygments_lexer": "ipython3",
   "version": "3.6.5"
  }
 },
 "nbformat": 4,
 "nbformat_minor": 2
}
